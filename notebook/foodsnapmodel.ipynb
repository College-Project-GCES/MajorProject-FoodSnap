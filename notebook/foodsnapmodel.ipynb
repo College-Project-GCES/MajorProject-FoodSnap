{
  "nbformat": 4,
  "nbformat_minor": 0,
  "metadata": {
    "colab": {
      "provenance": [],
      "include_colab_link": true
    },
    "kernelspec": {
      "name": "python3",
      "display_name": "Python 3"
    },
    "language_info": {
      "name": "python"
    }
  },
  "cells": [
    {
      "cell_type": "markdown",
      "metadata": {
        "id": "view-in-github",
        "colab_type": "text"
      },
      "source": [
        "<a href=\"https://colab.research.google.com/github/Pratigya-Dhakal/MajorProject-FoodSnap/blob/pratigya/foodsnapmodel.ipynb\" target=\"_parent\"><img src=\"https://colab.research.google.com/assets/colab-badge.svg\" alt=\"Open In Colab\"/></a>"
      ]
    },
    {
      "cell_type": "code",
      "execution_count": 1,
      "metadata": {
        "id": "S8WDXKnNDmL0"
      },
      "outputs": [],
      "source": [
        "import pandas as pd\n",
        "import numpy as np\n",
        "import os\n",
        "import cv2\n",
        "from sklearn.model_selection import train_test_split\n",
        "from tensorflow.keras.applications import VGG16\n",
        "from tensorflow.keras.models import Sequential\n",
        "from tensorflow.keras.layers import Dense, Flatten, Dropout\n",
        "from tensorflow.keras.optimizers import Adam\n",
        "from tensorflow.keras.preprocessing.image import img_to_array, load_img\n",
        "from tensorflow.keras.utils import to_categorical\n",
        "\n"
      ]
    },
    {
      "cell_type": "code",
      "source": [
        "#Mount Drive\n",
        "from google.colab import drive\n",
        "drive.mount('/content/drive')"
      ],
      "metadata": {
        "id": "B_C81aoTmUGd",
        "outputId": "fe71132a-1cfe-48a0-de48-a70326e72e3d",
        "colab": {
          "base_uri": "https://localhost:8080/"
        }
      },
      "execution_count": 2,
      "outputs": [
        {
          "output_type": "stream",
          "name": "stdout",
          "text": [
            "Drive already mounted at /content/drive; to attempt to forcibly remount, call drive.mount(\"/content/drive\", force_remount=True).\n"
          ]
        }
      ]
    },
    {
      "cell_type": "code",
      "source": [
        "# Step 1: Data Preparation\n",
        "\n",
        "# Read nutrition dataset\n",
        "nutrition_data = pd.read_csv('/content/drive/MyDrive/foodsnap/nutrition_values.csv')\n",
        "\n",
        "# Preprocess nutrition dataset as needed\n",
        "\n"
      ],
      "metadata": {
        "id": "Uos0Q2hBbryw"
      },
      "execution_count": 3,
      "outputs": []
    },
    {
      "cell_type": "code",
      "source": [
        "# Define paths to Food-101 dataset\n",
        "food101_dir = '/content/drive/MyDrive/foodsnap/food-101/images'\n",
        "food_labels = os.listdir(food101_dir)\n",
        "\n",
        "# Initialize lists to store image paths and corresponding labels\n",
        "image_paths = []\n",
        "labels = []"
      ],
      "metadata": {
        "id": "yrxXJmRQfxZQ"
      },
      "execution_count": 4,
      "outputs": []
    },
    {
      "cell_type": "code",
      "source": [
        "# Iterate through each food item folder\n",
        "for label in food_labels:\n",
        "    food_item_folder = os.path.join(food101_dir, label)\n",
        "    # Collect image paths from each food item folder\n",
        "    image_files = os.listdir(food_item_folder)\n",
        "    food_image_paths = [os.path.join(food_item_folder, image_file) for image_file in image_files]\n",
        "\n",
        "    # Append image paths and corresponding labels\n",
        "    image_paths.extend(food_image_paths)\n",
        "    labels.extend([label] * len(food_image_paths))"
      ],
      "metadata": {
        "id": "ttwmLkbFfiYp"
      },
      "execution_count": 5,
      "outputs": []
    },
    {
      "cell_type": "code",
      "source": [
        "\n",
        "# Convert labels to numerical values\n",
        "label_mapping = {label: index for index, label in enumerate(set(labels))}\n",
        "numeric_labels = [label_mapping[label] for label in labels]\n",
        "num_classes = len(set(labels))"
      ],
      "metadata": {
        "id": "fZUY4Y7XfiLB"
      },
      "execution_count": 6,
      "outputs": []
    },
    {
      "cell_type": "code",
      "source": [
        "# Split the data into training and testing sets\n",
        "train_image_paths, test_image_paths, train_labels, test_labels = train_test_split(image_paths, numeric_labels, test_size=0.2, random_state=42)\n",
        "\n"
      ],
      "metadata": {
        "id": "HMT55xQGfiIN"
      },
      "execution_count": 7,
      "outputs": []
    },
    {
      "cell_type": "code",
      "source": [
        "# Step 2: Model Training\n",
        "\n",
        "# Preprocess the food images\n",
        "def preprocess_image(image_path):\n",
        "    img = load_img(image_path, target_size=(224, 224))\n",
        "    img = img_to_array(img) / 255.0\n",
        "    return img"
      ],
      "metadata": {
        "id": "11ac7aAde6Xl"
      },
      "execution_count": 8,
      "outputs": []
    },
    {
      "cell_type": "code",
      "source": [
        "# Load pre-trained VGG16 model\n",
        "base_model = VGG16(weights='imagenet', include_top=False, input_shape=(224, 224, 3))\n",
        "\n",
        "# Freeze the weights of the pre-trained layers\n",
        "for layer in base_model.layers:\n",
        "    layer.trainable = False"
      ],
      "metadata": {
        "id": "rxaY8-A3fcL8"
      },
      "execution_count": 9,
      "outputs": []
    },
    {
      "cell_type": "code",
      "source": [
        "# Create the model architecture\n",
        "model = Sequential()\n",
        "model.add(base_model)\n",
        "model.add(Flatten())\n",
        "model.add(Dense(256, activation='relu'))\n",
        "model.add(Dropout(0.5))\n",
        "model.add(Dense(num_classes, activation='softmax'))\n"
      ],
      "metadata": {
        "id": "M0ZEdUtBfcAh"
      },
      "execution_count": 10,
      "outputs": []
    },
    {
      "cell_type": "code",
      "source": [
        "# Compile the model\n",
        "model.compile(optimizer=Adam(learning_rate=0.001), loss='categorical_crossentropy', metrics=['accuracy'])"
      ],
      "metadata": {
        "id": "xsLXfa98fU5h"
      },
      "execution_count": 11,
      "outputs": []
    },
    {
      "cell_type": "code",
      "source": [
        "# Convert labels to one-hot encoded vectors\n",
        "train_labels_encoded = to_categorical(train_labels, num_classes=num_classes)\n",
        "test_labels_encoded = to_categorical(test_labels, num_classes=num_classes)"
      ],
      "metadata": {
        "id": "B4BPLHVWfUvA"
      },
      "execution_count": 12,
      "outputs": []
    },
    {
      "cell_type": "code",
      "source": [
        "# Train the model\n",
        "epochs = 3\n",
        "batch_size = 32\n",
        "\n",
        "for epoch in range(epochs):\n",
        "    for batch_start in range(0, len(train_image_paths), batch_size):\n",
        "        batch_end = batch_start + batch_size\n",
        "        batch_image_paths = train_image_paths[batch_start:batch_end]\n",
        "        batch_images = np.array([preprocess_image(image_path) for image_path in batch_image_paths])\n",
        "        batch_labels = train_labels_encoded[batch_start:batch_end]\n",
        "\n",
        "        model.train_on_batch(batch_images, batch_labels)"
      ],
      "metadata": {
        "id": "mggA6-5te6Ux"
      },
      "execution_count": 13,
      "outputs": []
    },
    {
      "cell_type": "code",
      "source": [
        "# Evaluate the model\n",
        "test_images = np.array([preprocess_image(image_path) for image_path in test_image_paths])\n",
        "accuracy = model.evaluate(test_images, test_labels_encoded)[1]"
      ],
      "metadata": {
        "id": "vYs810nMe6Q-",
        "colab": {
          "base_uri": "https://localhost:8080/"
        },
        "outputId": "e4cd695b-a72a-454d-e4ee-a527e0e836bf"
      },
      "execution_count": 14,
      "outputs": [
        {
          "output_type": "stream",
          "name": "stdout",
          "text": [
            "20/20 [==============================] - 348s 17s/step - loss: 0.5758 - accuracy: 0.7645\n"
          ]
        }
      ]
    },
    {
      "cell_type": "code",
      "source": [
        "# Step 3: Inference and Nutrition Value Retrieval\n",
        "\n",
        "def predict_food_category(image_path):\n",
        "    image = preprocess_image(image_path)\n",
        "    image = np.expand_dims(image, axis=0)\n",
        "    predicted_probs = model.predict(image)[0]\n",
        "    predicted_label = np.argmax(predicted_probs)\n",
        "    return predicted_label\n",
        "\n",
        "\n"
      ],
      "metadata": {
        "id": "qojKwSNge6Pr"
      },
      "execution_count": 15,
      "outputs": []
    },
    {
      "cell_type": "code",
      "source": [
        "\n",
        "def retrieve_nutrition_values(food_category):\n",
        "    nutrition_values = nutrition_data[nutrition_data['product_name'] == food_category]\n",
        "    return nutrition_values"
      ],
      "metadata": {
        "id": "JslQQSoAe6MK"
      },
      "execution_count": 16,
      "outputs": []
    },
    {
      "cell_type": "code",
      "source": [
        "# Example usage\n",
        "example_image_path = '/content/food.jpg'\n",
        "predicted_category = predict_food_category(example_image_path)\n",
        "predicted_food = list(label_mapping.keys())[predicted_category]\n",
        "nutrition_values = retrieve_nutrition_values(predicted_food)\n",
        "\n",
        "print('Predicted Food Category:', predicted_food)\n",
        "print('Nutrition Values:', nutrition_values)"
      ],
      "metadata": {
        "id": "I7L2YBOHe6HK",
        "colab": {
          "base_uri": "https://localhost:8080/"
        },
        "outputId": "ed680be3-843a-4d95-c1f4-80900ef1f850"
      },
      "execution_count": 17,
      "outputs": [
        {
          "output_type": "stream",
          "name": "stdout",
          "text": [
            "1/1 [==============================] - 1s 693ms/step\n",
            "Predicted Food Category: pizza\n",
            "Nutrition Values:    product_name  energy_100g  carbohydrates_100g  sugars_100g  proteins_100g  \\\n",
            "47        pizza    251.12686              26.591        2.262        10.4336   \n",
            "\n",
            "    fat_100g  fiber_100g  cholesterol_100g  \n",
            "47   11.2206       1.264           0.02194  \n"
          ]
        }
      ]
    },
    {
      "cell_type": "code",
      "source": [
        "# Example usage\n",
        "example_image_path = '/content/ham.jpg'\n",
        "predicted_category = predict_food_category(example_image_path)\n",
        "predicted_food = list(label_mapping.keys())[predicted_category]\n",
        "nutrition_values = retrieve_nutrition_values(predicted_food)\n",
        "\n",
        "print('Predicted Food Category:', predicted_food)\n",
        "print('Nutrition Values:', nutrition_values)"
      ],
      "metadata": {
        "id": "wgcFgJ3JhXa_",
        "colab": {
          "base_uri": "https://localhost:8080/"
        },
        "outputId": "4539c64f-bc0d-4176-bef6-698ebe1d7f93"
      },
      "execution_count": 18,
      "outputs": [
        {
          "output_type": "stream",
          "name": "stdout",
          "text": [
            "1/1 [==============================] - 1s 764ms/step\n",
            "Predicted Food Category: hamburger\n",
            "Nutrition Values:    product_name  energy_100g  carbohydrates_100g  sugars_100g  proteins_100g  \\\n",
            "33    hamburger      267.441               45.35         4.65            9.3   \n",
            "\n",
            "    fat_100g  fiber_100g  cholesterol_100g  \n",
            "33      5.23         2.3               0.0  \n"
          ]
        }
      ]
    },
    {
      "cell_type": "code",
      "source": [
        "# Example usage\n",
        "example_image_path = '/content/download.jpg'\n",
        "predicted_category = predict_food_category(example_image_path)\n",
        "predicted_food = list(label_mapping.keys())[predicted_category]\n",
        "nutrition_values = retrieve_nutrition_values(predicted_food)\n",
        "\n",
        "print('Predicted Food Category:', predicted_food)\n",
        "print('Nutrition Values:', nutrition_values)"
      ],
      "metadata": {
        "id": "6xxHoMvNE8dr",
        "colab": {
          "base_uri": "https://localhost:8080/"
        },
        "outputId": "c8b2886c-8a79-414b-b8a2-0a1509301a39"
      },
      "execution_count": 19,
      "outputs": [
        {
          "output_type": "stream",
          "name": "stdout",
          "text": [
            "1/1 [==============================] - 1s 914ms/step\n",
            "Predicted Food Category: hamburger\n",
            "Nutrition Values:    product_name  energy_100g  carbohydrates_100g  sugars_100g  proteins_100g  \\\n",
            "33    hamburger      267.441               45.35         4.65            9.3   \n",
            "\n",
            "    fat_100g  fiber_100g  cholesterol_100g  \n",
            "33      5.23         2.3               0.0  \n"
          ]
        }
      ]
    },
    {
      "cell_type": "code",
      "source": [
        "# Example usage\n",
        "example_image_path = '/content/clinkers-cake-173208-2.jpg'\n",
        "predicted_category = predict_food_category(example_image_path)\n",
        "predicted_food = list(label_mapping.keys())[predicted_category]\n",
        "nutrition_values = retrieve_nutrition_values(predicted_food)\n",
        "\n",
        "print('Predicted Food Category:', predicted_food)\n",
        "print('Nutrition Values:', nutrition_values)"
      ],
      "metadata": {
        "colab": {
          "base_uri": "https://localhost:8080/"
        },
        "id": "UJcofVE8j9LD",
        "outputId": "12376028-9893-4b22-8a03-6d96d9807dfd"
      },
      "execution_count": 20,
      "outputs": [
        {
          "output_type": "stream",
          "name": "stdout",
          "text": [
            "1/1 [==============================] - 0s 498ms/step\n",
            "Predicted Food Category: pizza\n",
            "Nutrition Values:    product_name  energy_100g  carbohydrates_100g  sugars_100g  proteins_100g  \\\n",
            "47        pizza    251.12686              26.591        2.262        10.4336   \n",
            "\n",
            "    fat_100g  fiber_100g  cholesterol_100g  \n",
            "47   11.2206       1.264           0.02194  \n"
          ]
        }
      ]
    },
    {
      "cell_type": "code",
      "source": [
        "# Example usage\n",
        "example_image_path = '/content/download (1).jpg'\n",
        "predicted_category = predict_food_category(example_image_path)\n",
        "predicted_food = list(label_mapping.keys())[predicted_category]\n",
        "nutrition_values = retrieve_nutrition_values(predicted_food)\n",
        "\n",
        "print('Predicted Food Category:', predicted_food)\n",
        "print('Nutrition Values:', nutrition_values)"
      ],
      "metadata": {
        "colab": {
          "base_uri": "https://localhost:8080/"
        },
        "id": "ZJKlB8zykiOr",
        "outputId": "696c95fa-9797-4ab6-e2a5-dfb70f88e7d4"
      },
      "execution_count": 21,
      "outputs": [
        {
          "output_type": "stream",
          "name": "stdout",
          "text": [
            "1/1 [==============================] - 1s 523ms/step\n",
            "Predicted Food Category: pizza\n",
            "Nutrition Values:    product_name  energy_100g  carbohydrates_100g  sugars_100g  proteins_100g  \\\n",
            "47        pizza    251.12686              26.591        2.262        10.4336   \n",
            "\n",
            "    fat_100g  fiber_100g  cholesterol_100g  \n",
            "47   11.2206       1.264           0.02194  \n"
          ]
        }
      ]
    }
  ]
}